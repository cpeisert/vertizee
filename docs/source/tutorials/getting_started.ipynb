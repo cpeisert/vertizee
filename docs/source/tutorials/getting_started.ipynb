{
 "metadata": {
  "language_info": {
   "codemirror_mode": {
    "name": "ipython",
    "version": 3
   },
   "file_extension": ".py",
   "mimetype": "text/x-python",
   "name": "python",
   "nbconvert_exporter": "python",
   "pygments_lexer": "ipython3",
   "version": "3.8.5-final"
  },
  "orig_nbformat": 2,
  "kernelspec": {
   "name": "python38564bitvertizeecondaeb344564b5194a849d6ed90d8d8691fc",
   "display_name": "Python 3.8.5 64-bit ('vertizee': conda)"
  }
 },
 "nbformat": 4,
 "nbformat_minor": 2,
 "cells": [
  {
   "cell_type": "markdown",
   "metadata": {
    "tags": []
   },
   "source": [
    "[![Open In Colab](https://colab.research.google.com/assets/colab-badge.svg)](https://colab.research.google.com/github/cpeisert/vertizee/blob/master/docs/source/tutorials/getting_started.ipynb)\n",
    "\n",
    "# Tutorial: Getting Started\n",
    "\n",
    "Welcome to Vertizee, an object-oriented, typed graph library. Vertizee is customarily\n",
    "imported as:\n",
    "\n",
    "```python\n",
    "import vertizee as vz\n",
    "```\n",
    "\n",
    "## Definition of a graph\n",
    "\n",
    "A graph $G$ is defined as $G = (V,\\ E)$, where $V$ is a set of points called **vertices** (plural of *vertex*) and $E$ is a set of **edges**. An unordered pair of vertices defines an **undirected edge** and an ordered pair of vertices defines\n",
    "a **directed edge**.\n",
    "\n",
    "These fundamental graph primitives are represented by the classes:\n",
    "\n",
    "* `Vertex` - A point in a graph.\n",
    "* `Edge` - An undirected edge whose two vertices may appear in any order.\n",
    "* `DiEdge` - A directed edge whose starting vertex is called the *tail* and whose destination vertex\n",
    "  is called the *head*.\n",
    "* `GraphBase` - A base class from which all graph classes inherit: `SimpleGraph`, `Graph`, `MultiGraph`, `DiGraph`, `MultiDiGraph`."
   ]
  },
  {
   "source": [
    "## Introduction to data types\n",
    "\n",
    "## TODO(cpeisert): Update section\n",
    "\n",
    "\n",
    "### Graph classes\n",
    "\n",
    "The `GraphType` type alias is a synonym for abstract base class `GraphBase`, which is the parent from which all concrete graph classes derive. However, this class should not be used directly. Instead, you should use one of the graph classes shown in the table below, all of which inherit from `GraphBase`.\n",
    "\n",
    "<table border='1' cellpadding=\"3\" cellspacing=\"0\">\n",
    "<thead>\n",
    "<tr>\n",
    "    <th align=\"left\">Graph class (concrete)</th>\n",
    "    <th align=\"center\">Directed</th>\n",
    "    <th align=\"center\">Parallel edges</th>\n",
    "    <th align=\"center\">Edge class (abstract)</th>\n",
    "    <th align=\"center\">Vertex class (abstract)</th>\n",
    "</tr>\n",
    "</thead>\n",
    "<tbody>\n",
    "<tr>\n",
    "    <td><code>Graph</code></td>\n",
    "    <td align=\"center\">No</td>\n",
    "    <td align=\"center\">No</td>\n",
    "    <td align=\"center\">Edge</td>\n",
    "    <td align=\"center\">Vertex</td>\n",
    "</tr>\n",
    "<tr>\n",
    "    <td><code>MultiGraph</code></td>\n",
    "    <td align=\"center\">No</td>\n",
    "    <td align=\"center\">Yes</td>\n",
    "    <td align=\"center\">MultiEdge</td>\n",
    "    <td align=\"center\">Vertex</td>\n",
    "</tr>\n",
    "<tr>\n",
    "    <td><code>DiGraph</code></td>\n",
    "    <td align=\"center\">Yes</td>\n",
    "    <td align=\"center\">No</td>\n",
    "    <td align=\"center\">DiEdge</td>\n",
    "    <td align=\"center\">DiVertex</td>\n",
    "</tr>\n",
    "<tr>\n",
    "    <td><code>MultiDiGraph</code></td>\n",
    "    <td align=\"center\">Yes</td>\n",
    "    <td align=\"center\">Yes</td>\n",
    "    <td align=\"center\">MultiDiEdge</td>\n",
    "    <td align=\"center\">DiVertex</td>\n",
    "</tr>\n",
    "</tbody>\n",
    "</table>\n",
    "\n",
    "For practical purposes, the most important decision is whether or not you will be working with an undirected graph or a digraph. For maximum flexibility, either use `MultiGraph` (undirected) or `MultiDiGraph` (directed). \n",
    "\n",
    "### TODO(cpeisert): Explain memory penalty for using MultiGraphs vs. Graphs/DiGraphs in terms of extra dictionary per edge.\n",
    "\n",
    "The classes `Graph` and `DiGraph` are provided in case you want to prevent parallel edges (they raise an exception if adding an edge would result in parallel edges).\n",
    "\n",
    "The digraph classes (`DiGraph` and `MultiDiGraph`) use `DiEdge` objects, whereas the other graph classes use `Edge` objects.\n",
    "\n",
    "\n",
    "### Edge classes\n",
    "\n",
    "\n",
    "### Vertex classes\n",
    "\n"
   ],
   "cell_type": "markdown",
   "metadata": {}
  },
  {
   "source": [
    "## Vertices\n",
    "\n",
    "Each vertex must be assigned a unique label. Vertex labels (for example, '1', '2', 'three') are stored as strings. This means that the integer 1 and the string '1' refer to the same label. "
   ],
   "cell_type": "markdown",
   "metadata": {}
  },
  {
   "cell_type": "code",
   "execution_count": 1,
   "metadata": {
    "tags": []
   },
   "outputs": [],
   "source": [
    "!pip -q install vertizee"
   ]
  },
  {
   "cell_type": "code",
   "execution_count": 1,
   "metadata": {
    "tags": []
   },
   "outputs": [
    {
     "output_type": "stream",
     "name": "stdout",
     "text": "Vertices: 1, 2, three\n"
    }
   ],
   "source": [
    "import vertizee as vz\n",
    "\n",
    "g = vz.Graph()\n",
    "one = g.add_vertex(1)\n",
    "two = g.add_vertex('2')\n",
    "three = g.add_vertex('three')\n",
    "\n",
    "print(f\"Vertices: {one}, {two}, {three}\")"
   ]
  },
  {
   "source": [
    "Graph objects support vertex lookup using index accessor notation. For convenience, a vertex may be referenced by specifying labels as either strings or integers (if the label represents an integer), or by using a `Vertex` object directly."
   ],
   "cell_type": "markdown",
   "metadata": {}
  },
  {
   "cell_type": "code",
   "execution_count": 2,
   "metadata": {
    "tags": []
   },
   "outputs": [
    {
     "output_type": "stream",
     "name": "stdout",
     "text": "g[1] == g['1'] => True\ng['1'] == g[one] => True\n"
    }
   ],
   "source": [
    "print(f\"g[1] == g['1'] => {g[1] == g['1']}\")\n",
    "print(f\"g['1'] == g[one] => {g['1'] == g[one]}\")"
   ]
  },
  {
   "source": [
    "The type alias `VertexType` is defined as `Union[int, str, Vertex]` and is the default type for vertices (e.g. in the context of function and method arguments).\n",
    "\n",
    "Vertex objects always belong to a particular graph. They should only be instantiated using the graph methods:\n",
    "\n",
    "* `add_vertex`\n",
    "* `add_vertices_from`\n",
    "\n",
    "The method `add_vertices_from` is for adding multiple items, either as separate arguments or from an iterable container, such as a list."
   ],
   "cell_type": "markdown",
   "metadata": {}
  },
  {
   "cell_type": "code",
   "execution_count": 3,
   "metadata": {},
   "outputs": [
    {
     "output_type": "execute_result",
     "data": {
      "text/plain": "8"
     },
     "metadata": {},
     "execution_count": 3
    }
   ],
   "source": [
    "g.add_vertices_from(4, 5)\n",
    "g.add_vertices_from([6, 7, 8])\n",
    "g.vertex_count"
   ]
  },
  {
   "source": [
    "Attempting to instantiate a `Vertex` object directly using its `__init__` method will raise an error."
   ],
   "cell_type": "markdown",
   "metadata": {}
  },
  {
   "cell_type": "code",
   "execution_count": 4,
   "metadata": {
    "tags": []
   },
   "outputs": [
    {
     "output_type": "stream",
     "name": "stdout",
     "text": "Error: Vertex objects should be created using method GraphBase.add_vertex(); do not use __init__\n"
    }
   ],
   "source": [
    "try:\n",
    "    my_vertex = vz.Vertex(label=10, parent_graph=g, create_key=object())\n",
    "except ValueError as e:\n",
    "    print(f\"Error: {e}\")"
   ]
  },
  {
   "source": [
    "`Vertex` objects have an `attr` dictionary for storing additional attributes. For example, the following could be used to associate a color with a vertex. \n",
    "\n",
    "```python\n",
    "one.attr[\"color\"] = \"blue\"\n",
    "```\n",
    "\n",
    "The method `Vertex.__getitem__` has been implemented to provide syntactic sugar for direct access to the `attr` dictionary. This enables the following concise syntax:\n",
    "\n",
    "```python\n",
    "one[\"color\"] = \"blue\"\n",
    "```"
   ],
   "cell_type": "markdown",
   "metadata": {}
  },
  {
   "source": [
    "## Edges\n",
    "\n",
    "Edges come in two flavors: undirected (the `Edge` class) and directed (the `DiEdge` class). Edge objects always belong to a particular graph. They should only be instantiated using the graph methods:\n",
    "\n",
    "* `add_edge`\n",
    "* `add_edges_from`"
   ],
   "cell_type": "markdown",
   "metadata": {}
  },
  {
   "cell_type": "code",
   "execution_count": 5,
   "metadata": {
    "tags": []
   },
   "outputs": [
    {
     "output_type": "execute_result",
     "data": {
      "text/plain": "5"
     },
     "metadata": {},
     "execution_count": 5
    }
   ],
   "source": [
    "g.add_edge(1, 2)\n",
    "g.add_edge('three', 4)\n",
    "g.add_edges_from([(4, 4), (4, 5), (5, 6)])\n",
    "g.edge_count"
   ]
  },
  {
   "source": [
    "## TODO(cpeisert): Move the edge instantiation notes into the section \"Vertizee data types\"\n",
    "\n",
    "Attempting to instantiate an `Edge` or `DiEdge` object directly using the `__init__` method will raise an error."
   ],
   "cell_type": "markdown",
   "metadata": {}
  },
  {
   "cell_type": "code",
   "execution_count": 6,
   "metadata": {
    "tags": []
   },
   "outputs": [
    {
     "output_type": "stream",
     "name": "stdout",
     "text": "Error: Edge objects should be created using method GraphBase.add_edge(); do not use __init__\n"
    }
   ],
   "source": [
    "try:\n",
    "    my_edge = vz.Edge(v1=2, v2=4, create_key=object())\n",
    "except ValueError as e:\n",
    "    print(f\"Error: {e}\")"
   ]
  },
  {
   "source": [
    "Graph objects support edge lookup using index accessor notation by passing the endpoints separated by a comma."
   ],
   "cell_type": "markdown",
   "metadata": {}
  },
  {
   "cell_type": "code",
   "execution_count": 7,
   "metadata": {},
   "outputs": [
    {
     "output_type": "execute_result",
     "data": {
      "text/plain": "True"
     },
     "metadata": {},
     "execution_count": 7
    }
   ],
   "source": [
    "g[4, 4].is_loop()"
   ]
  },
  {
   "source": [
    "## TODO(cpeisert): Update this section.\n",
    "\n",
    "`Edge` objects have properties `vertex1` and `vertex2`, which are assigned in order. For example, the first vertex passed to `add_edge` is assigned to `vertex1`. However, the string representation of **undirected edges** always shows the vertices sorted in lexicographic order. This is to reinforce the fact that for undirected edges, the vertex order does not matter and to provide a consistent representation. For example, undirected edge $(1,\\ 2)$ is the same as $(2,\\ 1)$ and will always be printed `(1, 2)`.\n",
    "\n",
    "By contrast, **directed edges** always display vertices in the same order: `vertex1` (the *tail*) followed by `vertex2` (the *head*). `DiEdge` objects also have properties `tail` and `head` that serve as aliases for `vertex1` and `vertex2` respectively.\n",
    "\n",
    "Edge objects (`Edge` and `DiEdge`) have an `attr` dictionary for storing additional attributes. `Edge.__getitem__` has been implemented to provide syntactic sugar for direct access to the `attr` dictionary. This enables attribute access as follows:\n",
    "\n",
    "```python\n",
    "g[9, 10][\"color\"] = \"blue\"\n",
    "```\n",
    "\n",
    ">**Note**\n",
    "\n",
    "> When adding edges, if a vertex label passed to `add_edge` or `add_edges_from` is not found in the graph, then a new `Vertex` object is created. Hence, it is often only necessary to add edges to a graph without explicitly adding vertices. The exception would be if the graph contains isolated vertices.\n",
    "\n",
    "Edge classes also have a `weight` property for assigning a weight (or edge length). The default edge weight is 1. The edge instantiation methods, `add_edge` and `add_edges_from`, also accept edge weights."
   ],
   "cell_type": "markdown",
   "metadata": {}
  },
  {
   "cell_type": "code",
   "execution_count": 8,
   "metadata": {},
   "outputs": [
    {
     "output_type": "execute_result",
     "data": {
      "text/plain": "2.5"
     },
     "metadata": {},
     "execution_count": 8
    }
   ],
   "source": [
    "g.add_edge(9, 10, weight=5.0)\n",
    "g.add_edges_from([(10, 11, 3.0), (10, 12, 2.5)])\n",
    "g[10, 12].weight"
   ]
  },
  {
   "source": [
    "When attempting to add a vertex label that already exists, it is silently ignored and the original vertex is returned. However, when adding an edge with vertex labels that match an existing edge, either an error is raised or a parallel edge is created."
   ],
   "cell_type": "markdown",
   "metadata": {}
  },
  {
   "cell_type": "code",
   "execution_count": 9,
   "metadata": {
    "tags": []
   },
   "outputs": [
    {
     "output_type": "stream",
     "name": "stdout",
     "text": "Error: Attempted to add parallel edge. This graph is not a multigraph and therefore does not support parallel edges.\n"
    }
   ],
   "source": [
    "try:\n",
    "    g.add_edge(1, 2)\n",
    "except ValueError as e:\n",
    "    print(f\"Error: {e}\")"
   ]
  },
  {
   "source": [
    "What if we wanted a graph that supported parallel edges? And how do we specify if an edge is an undirected `Edge` or a directed `DiEdge`? The following section addresses these questions."
   ],
   "cell_type": "markdown",
   "metadata": {}
  },
  {
   "source": [
    "## Graph constructors\n",
    "\n",
    "## TODO(cpeisert): Update this section based on new graph types.\n",
    "\n",
    "The graph constructors provide a flexible option for initializing a graph with edges. Edges may be specified using tuples of vertex labels or with an iterable object, such as a list of edge tuples. Using the constructor to add edges is equivalent to the method `add_edges_from`."
   ],
   "cell_type": "markdown",
   "metadata": {}
  },
  {
   "cell_type": "code",
   "execution_count": 10,
   "metadata": {},
   "outputs": [
    {
     "output_type": "execute_result",
     "data": {
      "text/plain": "vertizee.classes.edge.DiEdge"
     },
     "metadata": {},
     "execution_count": 10
    }
   ],
   "source": [
    "g2 = vz.MultiDiGraph([(\"s\", \"t\"), (\"t\", \"u\"), (\"u\", \"v\")])\n",
    "type(g2[\"s\", \"t\"])"
   ]
  },
  {
   "source": [
    "## Incident edges\n",
    "\n",
    "`Vertex` objects keep track of their incident edges and classify them into loops and non-loops. In directed graphs, `DiVertex` objects also track which edges are incoming and outgoing."
   ],
   "cell_type": "markdown",
   "metadata": {}
  },
  {
   "cell_type": "code",
   "execution_count": 11,
   "metadata": {},
   "outputs": [
    {
     "output_type": "execute_result",
     "data": {
      "text/plain": "{s, t}"
     },
     "metadata": {},
     "execution_count": 11
    }
   ],
   "source": [
    "g2 = vz.MultiDiGraph([(\"s\", \"s\"), (\"s\", \"t\"), (\"t\", \"s\")])\n",
    "g2['s'].adj_vertices"
   ]
  },
  {
   "cell_type": "code",
   "execution_count": 12,
   "metadata": {},
   "outputs": [
    {
     "output_type": "execute_result",
     "data": {
      "text/plain": "4"
     },
     "metadata": {},
     "execution_count": 12
    }
   ],
   "source": [
    "# Note that self loops are counted twice when calculating the degree of a vertex. \n",
    "# See: https://en.wikipedia.org/wiki/Degree_(graph_theory)\n",
    "g2['s'].degree"
   ]
  },
  {
   "cell_type": "code",
   "execution_count": 14,
   "metadata": {},
   "outputs": [
    {
     "output_type": "execute_result",
     "data": {
      "text/plain": "{(s, s), (s, t), (t, s)}"
     },
     "metadata": {},
     "execution_count": 14
    }
   ],
   "source": [
    "g2['s'].incident_edges"
   ]
  },
  {
   "cell_type": "code",
   "execution_count": 15,
   "metadata": {},
   "outputs": [
    {
     "output_type": "execute_result",
     "data": {
      "text/plain": "{(s, s), (s, t)}"
     },
     "metadata": {},
     "execution_count": 15
    }
   ],
   "source": [
    "g2['s'].incident_edges_outgoing"
   ]
  },
  {
   "cell_type": "code",
   "execution_count": 16,
   "metadata": {},
   "outputs": [
    {
     "output_type": "execute_result",
     "data": {
      "text/plain": "{(s, s), (t, s)}"
     },
     "metadata": {},
     "execution_count": 16
    }
   ],
   "source": [
    "g2[\"s\"].incident_edges_incoming"
   ]
  },
  {
   "source": [
    "## Multigraphs and Parallel edges\n",
    "\n",
    "## TODO(cpeisert): Update this section.\n",
    "\n",
    "Parallel edges are tracked by existing edge objects. For example, in an undirected graph, an edge $(s,\\ t)$ is the same as edge $(t,\\ s)$, so any edge with endpoints $s$ and $t$ will be stored in the same `Edge` object."
   ],
   "cell_type": "markdown",
   "metadata": {}
  },
  {
   "cell_type": "code",
   "execution_count": 17,
   "metadata": {
    "tags": []
   },
   "outputs": [
    {
     "output_type": "execute_result",
     "data": {
      "text/plain": "True"
     },
     "metadata": {},
     "execution_count": 17
    }
   ],
   "source": [
    "g3 = vz.MultiGraph()\n",
    "edge_st = g3.add_edge('s', 't')\n",
    "edge_ts = g3.add_edge('t', 's')\n",
    "edge_st == edge_ts"
   ]
  },
  {
   "cell_type": "code",
   "execution_count": 18,
   "metadata": {},
   "outputs": [
    {
     "output_type": "execute_result",
     "data": {
      "text/plain": "1"
     },
     "metadata": {},
     "execution_count": 18
    }
   ],
   "source": [
    "edge_st.parallel_edge_count"
   ]
  },
  {
   "source": [
    "In a directed graph, the edge $(x,\\ y)$ is distinct from edge $(y,\\ x)$, and hence each of these `DiEdge` objects will keep track of its own set of parallel edges. "
   ],
   "cell_type": "markdown",
   "metadata": {}
  },
  {
   "cell_type": "code",
   "execution_count": 19,
   "metadata": {},
   "outputs": [
    {
     "output_type": "execute_result",
     "data": {
      "text/plain": "False"
     },
     "metadata": {},
     "execution_count": 19
    }
   ],
   "source": [
    "g4 = vz.MultiDiGraph()\n",
    "edge_xy = g4.add_edge(\"x\", \"y\")\n",
    "edge_yx = g4.add_edge(\"y\", \"x\")\n",
    "edge_xy == edge_yx"
   ]
  },
  {
   "cell_type": "code",
   "execution_count": 20,
   "metadata": {},
   "outputs": [
    {
     "output_type": "execute_result",
     "data": {
      "text/plain": "0"
     },
     "metadata": {},
     "execution_count": 20
    }
   ],
   "source": [
    "edge_xy.parallel_edge_count"
   ]
  },
  {
   "cell_type": "code",
   "execution_count": 23,
   "metadata": {},
   "outputs": [
    {
     "output_type": "execute_result",
     "data": {
      "text/plain": "3"
     },
     "metadata": {},
     "execution_count": 23
    }
   ],
   "source": [
    "g4.add_edge(\"x\", \"y\")\n",
    "g4.add_edge(\"x\", \"y\")\n",
    "edge_xy.parallel_edge_count"
   ]
  },
  {
   "cell_type": "code",
   "execution_count": 24,
   "metadata": {},
   "outputs": [
    {
     "output_type": "execute_result",
     "data": {
      "text/plain": "{(x, y), (x, y), (x, y), (x, y)}"
     },
     "metadata": {},
     "execution_count": 24
    }
   ],
   "source": [
    "g4[\"x\"].incident_edges_outgoing"
   ]
  },
  {
   "source": [
    "## Removing elements\n",
    "\n",
    "## TODO(cpeisert): Update this section.\n",
    "\n",
    "### Edge removal\n",
    "Since each edge object may represent multiple parallel edges, there are two methods for removing edges from a graph.\n",
    "\n",
    "* `GraphBase.remove_edge_from` - Deletes exactly one edge for each edge matched by `GraphPrimitive` arguments.\n",
    "* `GraphBase.remove_all_edges_from` - Deletes all edges (including parallel edges) for each edge matched by `GraphPrimitive` arguments.\n",
    "\n",
    "In the case where there are no parallel edges, then these two methods are equivalent. Hence, for `SimpleGraph`, `Graph`, and `DiGraph` instances, just use `remove_edge_from`.\n",
    "\n",
    "For information about `GraphPrimitive` arguments, see the section above **Graph constructors and type aliases**.\n",
    "\n",
    "### Vertex removal\n",
    "\n",
    "Vertices may only be removed if they have no incident edges (except for self-loops, which are okay). This is because `Edge` (and `DiEdge`) objects store references to their endpoint `Vertex` objects. Deleting a `Vertex` that had incident edges would corrupt the integrity of these edge objects.\n",
    "\n",
    "To delete an isolated vertex, use the method `GraphBase.remove_vertex`. \n",
    "\n",
    "If you are not concerned about preserving isolated vertices, then the method `GraphBase.remove_isolated_vertices` may be called to delete all isolated vertices in the graph."
   ],
   "cell_type": "markdown",
   "metadata": {}
  },
  {
   "source": [
    "## Graph analysis\n",
    "\n",
    "Vertizee includes a number of algorithms for the analysis of graphs. To see the current options, see [Algorithms](# TODO(cpeisert): insert hyperlink to online documentation) section of the API reference. \n",
    "\n",
    "In addition, the following tutorials introduce fundamental analysis topics.\n",
    "\n",
    "# TODO(cpeisert): Update tutorial hyperlinks to online documentation.\n",
    "\n",
    "\n",
    "| Notebook     |      Description      |\n",
    "|:----------|:-------------|\n",
    "| [Breadth-First and Depth-First Search](https://github.com/cpeisert/vertizee/blob/master/docs/source/tutorials/search.ipynb)  | BFS and DFS graph search and traversal  |\n",
    "| [Shortest paths](https://github.com/cpeisert/vertizee/blob/master/docs/source/tutorials/shortest_paths.ipynb)  | Finding shortest paths and all-pairs shortest paths  |\n",
    "| [Connected Components](https://github.com/cpeisert/vertizee/blob/master/docs/source/tutorials/connected_components.ipynb)  | Finding strongly-connected components  |"
   ],
   "cell_type": "markdown",
   "metadata": {}
  },
  {
   "source": [
    "## Reading and writing graphs\n",
    "\n",
    "Vertizee currently supports reading and writing graphs in adjacency list format. For more information, see [Adjacency List Files](# TODO(cpeisert): insert hyperlink to online documentation) in the API reference."
   ],
   "cell_type": "markdown",
   "metadata": {}
  },
  {
   "source": [
    "## Data types in detail\n",
    "\n",
    "## TODO(cpeisert): Start by explaining concepts of breaking down types by graph type, abstract classes and concrete classes, type aliases, and the virtual `vertizee.typing` package for importing non-instantiable types. Explain logic behind `GraphType`, `EdgeType`, `VertexType`, and `GraphPrimitive` (i.e. the edge and vertex primitives that comprise a graph).\n",
    "\n",
    "\n",
    "<table border='1' cellpadding=\"3\" cellspacing=\"0\">\n",
    "<thead>\n",
    "<tr>\n",
    "    <th align=\"left\">Graph class (concrete)</th>\n",
    "    <th align=\"center\">Directed</th>\n",
    "    <th align=\"center\">Parallel edges</th>\n",
    "    <th align=\"center\">Edge class (abstract)</th>\n",
    "    <th align=\"center\">Vertex class (abstract)</th>\n",
    "</tr>\n",
    "</thead>\n",
    "<tbody>\n",
    "<tr>\n",
    "    <td><code>Graph</code></td>\n",
    "    <td align=\"center\">No</td>\n",
    "    <td align=\"center\">No</td>\n",
    "    <td align=\"center\">Edge</td>\n",
    "    <td align=\"center\">Vertex</td>\n",
    "</tr>\n",
    "<tr>\n",
    "    <td><code>MultiGraph</code></td>\n",
    "    <td align=\"center\">No</td>\n",
    "    <td align=\"center\">Yes</td>\n",
    "    <td align=\"center\">MultiEdge</td>\n",
    "    <td align=\"center\">Vertex</td>\n",
    "</tr>\n",
    "<tr>\n",
    "    <td><code>DiGraph</code></td>\n",
    "    <td align=\"center\">Yes</td>\n",
    "    <td align=\"center\">No</td>\n",
    "    <td align=\"center\">DiEdge</td>\n",
    "    <td align=\"center\">DiVertex</td>\n",
    "</tr>\n",
    "<tr>\n",
    "    <td><code>MultiDiGraph</code></td>\n",
    "    <td align=\"center\">Yes</td>\n",
    "    <td align=\"center\">Yes</td>\n",
    "    <td align=\"center\">MultiDiEdge</td>\n",
    "    <td align=\"center\">DiVertex</td>\n",
    "</tr>\n",
    "</tbody>\n",
    "</table>"
   ],
   "cell_type": "markdown",
   "metadata": {}
  }
 ]
}