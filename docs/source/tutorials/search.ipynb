{
 "metadata": {
  "language_info": {
   "codemirror_mode": {
    "name": "ipython",
    "version": 3
   },
   "file_extension": ".py",
   "mimetype": "text/x-python",
   "name": "python",
   "nbconvert_exporter": "python",
   "pygments_lexer": "ipython3",
   "version": "3.8.5-final"
  },
  "orig_nbformat": 2,
  "kernelspec": {
   "name": "python38564bitvertizeecondaeb344564b5194a849d6ed90d8d8691fc",
   "display_name": "Python 3.8.5 64-bit ('vertizee': conda)"
  }
 },
 "nbformat": 4,
 "nbformat_minor": 2,
 "cells": [
  {
   "cell_type": "markdown",
   "metadata": {
    "tags": []
   },
   "source": [
    "# Tutorial: Search\n",
    "\n",
    "[![Open In Colab](https://colab.research.google.com/assets/colab-badge.svg)](https://colab.research.google.com/github/cpeisert/vertizee/blob/master/docs/source/tutorials/search.ipynb)\n"
   ]
  },
  {
   "cell_type": "code",
   "execution_count": 1,
   "metadata": {},
   "outputs": [
    {
     "output_type": "execute_result",
     "data": {
      "text/plain": "3"
     },
     "metadata": {},
     "execution_count": 1
    }
   ],
   "source": [
    "import vertizee as vz\n",
    "\n",
    "g = vz.DiGraph()\n",
    "g.add_edge('s', 't', weight=10)\n",
    "g.add_edge('s', 'y', weight=5)\n",
    "g.add_edge('y', 't', weight=3)\n",
    "g.vertex_count"
   ]
  },
  {
   "cell_type": "code",
   "execution_count": 2,
   "metadata": {},
   "outputs": [
    {
     "output_type": "execute_result",
     "data": {
      "text/plain": "3"
     },
     "metadata": {},
     "execution_count": 2
    }
   ],
   "source": [
    "# from vertizee import ShortestPath, VertexDict\n",
    "from vertizee.algorithms import shortest_paths_dijkstra\n",
    "\n",
    "s_paths: vz.VertexDict[vz.ShortestPath] = shortest_paths_dijkstra(g, source='s', find_path_lengths_only=False)\n",
    "len(s_paths)\n"
   ]
  }
 ]
}